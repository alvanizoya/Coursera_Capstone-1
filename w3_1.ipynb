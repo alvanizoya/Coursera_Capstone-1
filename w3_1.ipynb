{
    "nbformat_minor": 1, 
    "cells": [
        {
            "source": "import pandas as pd\nimport requests \nfrom bs4 import BeautifulSoup\nfrom geopy.geocoders import Nominatim\nimport matplotlib.cm as cm\nimport matplotlib.colors as colors\nfrom sklearn.cluster import KMeans\nimport folium \nimport json \nfrom pandas.io.json import json_normalize\nimport numpy as np", 
            "cell_type": "code", 
            "metadata": {}, 
            "outputs": [], 
            "execution_count": null
        }, 
        {
            "source": "wiki_url = 'https://en.wikipedia.org/wiki/List_of_postal_codes_of_Canada:_M'\n\nurl_content = requests.get(wiki_url).text\nsoup = BeautifulSoup(url_content, 'lxml')\nbl = soup.find_all('table', {'class':'wikitable sortable'})\n\n\nBorough = []\nNeighbourhood = []\nPostalCode = []\n\n\ntab = bl[0].find_all('tr')    \nfor r in tab:\n    cols = r.find_all('td')\n    if len(cols) > 0:\n        p = cols[0].text\n        b = cols[1].text\n        n = cols[2].text.rstrip()\n        PostalCode.append(p)\n        Borough.append(b)\n        Neighbourhood.append(n)\n            \n\ndf = pd.DataFrame()\nnlist = {'PostalCode':PostalCode, 'Boroughs':Borough, 'Neighbours':Neighbourhood}\ndf = pd.DataFrame(nlist)\n# Get rid with rows, where Boroughts are not assigned\ndf.drop(df[df.Boroughs == 'Not assigned'].index, inplace=True)", 
            "cell_type": "code", 
            "metadata": {}, 
            "outputs": [], 
            "execution_count": null
        }, 
        {
            "source": "cond=df['Neighbours']=='Not assigned'\ndf['Neighbours']=df['Boroughs'].where(cond,df['Neighbours'])", 
            "cell_type": "code", 
            "metadata": {}, 
            "outputs": [], 
            "execution_count": null
        }, 
        {
            "source": "df = df.sort_values(by='PostalCode', ascending=True)\ndf = df.groupby(['PostalCode','Boroughs'])['Neighbours'].apply(','.join).reset_index()", 
            "cell_type": "code", 
            "metadata": {}, 
            "outputs": [], 
            "execution_count": null
        }, 
        {
            "source": "df.head()", 
            "cell_type": "code", 
            "metadata": {}, 
            "outputs": [], 
            "execution_count": null
        }, 
        {
            "source": "df.shape", 
            "cell_type": "code", 
            "metadata": {}, 
            "outputs": [], 
            "execution_count": null
        }, 
        {
            "source": "", 
            "cell_type": "code", 
            "metadata": {}, 
            "outputs": [], 
            "execution_count": null
        }
    ], 
    "metadata": {
        "kernelspec": {
            "display_name": "Python 3.5", 
            "name": "python3", 
            "language": "python"
        }, 
        "language_info": {
            "mimetype": "text/x-python", 
            "nbconvert_exporter": "python", 
            "version": "3.5.5", 
            "name": "python", 
            "pygments_lexer": "ipython3", 
            "file_extension": ".py", 
            "codemirror_mode": {
                "version": 3, 
                "name": "ipython"
            }
        }
    }, 
    "nbformat": 4
}