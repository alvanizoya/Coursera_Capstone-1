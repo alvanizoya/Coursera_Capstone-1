{
    "nbformat_minor": 1, 
    "cells": [
        {
            "source": "import pandas as pd\nimport os\nos.system('pip install wikipedia')\nos.system('pip install geocoder')\nos.system('pip install geopy')\nos.system('pip install folium')\nimport wikipedia as wp\nfrom geopy.geocoders import Nominatim\nimport folium", 
            "cell_type": "code", 
            "metadata": {}, 
            "outputs": [], 
            "execution_count": 15
        }, 
        {
            "source": "html = wp.page(\"List of postal codes of Canada: M\").html().encode(\"UTF-8\")\ndf = pd.read_html(html)[0]\ndf.columns = ['Postalcode', 'Borough', 'Neighborhood']\ndf = df.iloc[1:]\n#df.to_csv('C:\\\\Users\\RAGHUGOPALKRISHNAN\\\\Desktop\\\\Course9.csv')\n#print(df)", 
            "cell_type": "code", 
            "metadata": {}, 
            "outputs": [], 
            "execution_count": 16
        }, 
        {
            "source": "foo = lambda a: \" , \".join(a) \ndf = df.groupby('Postalcode').agg({'Borough': 'first', 'Neighborhood': foo}).reset_index()\n   \n    \ndf = df.drop(df[(df.Borough == 'Not assigned')].index)\nfor index, row in df.iterrows():\n    if row['Neighborhood'] == 'Not assigned':\n        #print(row['Borough'])\n        row['Neighborhood'] = row['Borough']", 
            "cell_type": "code", 
            "metadata": {}, 
            "outputs": [], 
            "execution_count": 17
        }, 
        {
            "source": "print('The shape of the Dataframe ', df.shape)", 
            "cell_type": "code", 
            "metadata": {}, 
            "outputs": [
                {
                    "output_type": "stream", 
                    "name": "stdout", 
                    "text": "The shape of the Dataframe  (103, 3)\n"
                }
            ], 
            "execution_count": 18
        }, 
        {
            "source": "", 
            "cell_type": "code", 
            "metadata": {}, 
            "outputs": [], 
            "execution_count": null
        }
    ], 
    "metadata": {
        "kernelspec": {
            "display_name": "Python 3.5", 
            "name": "python3", 
            "language": "python"
        }, 
        "language_info": {
            "mimetype": "text/x-python", 
            "nbconvert_exporter": "python", 
            "version": "3.5.5", 
            "name": "python", 
            "pygments_lexer": "ipython3", 
            "file_extension": ".py", 
            "codemirror_mode": {
                "version": 3, 
                "name": "ipython"
            }
        }
    }, 
    "nbformat": 4
}